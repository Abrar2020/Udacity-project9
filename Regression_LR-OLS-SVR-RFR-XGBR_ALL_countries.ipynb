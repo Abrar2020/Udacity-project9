{
 "cells": [
  {
   "cell_type": "markdown",
   "metadata": {},
   "source": [
    "# Importing important packages"
   ]
  },
  {
   "cell_type": "code",
   "execution_count": 21,
   "metadata": {},
   "outputs": [],
   "source": [
    "#importing all important packages\n",
    "import pandas as pd\n",
    "import numpy as np\n",
    "from sklearn import metrics\n",
    "from sklearn.metrics import mean_absolute_error"
   ]
  },
  {
   "cell_type": "code",
   "execution_count": 22,
   "metadata": {},
   "outputs": [],
   "source": [
    "#reading data set\n",
    "df=pd.read_csv('C:/Users/abrar/Desktop/2019/Scripts/suicideup1.csv')\n",
    "#df=pd.read_excel(\"C:/Users/abrar/Desktop/2019/Data/Fatures_enginering/data_after_remove_outliers.xlsx\")"
   ]
  },
  {
   "cell_type": "markdown",
   "metadata": {},
   "source": [
    "# Cleaning and Pre-processing"
   ]
  },
  {
   "cell_type": "code",
   "execution_count": 23,
   "metadata": {},
   "outputs": [
    {
     "data": {
      "text/plain": [
       "Unnamed: 0            0.0\n",
       "country               0.0\n",
       "year                  0.0\n",
       "sex                   0.0\n",
       "age                   0.0\n",
       "suicides_no           0.0\n",
       "population            0.0\n",
       "suicides_per100k      0.0\n",
       "country-year          0.0\n",
       "HDI_for_year          0.0\n",
       "gdp_for_year          0.0\n",
       "gdp_per_capita        0.0\n",
       "generation            0.0\n",
       "country_code          0.0\n",
       "country-code          0.0\n",
       "region                0.0\n",
       "unemployment index    0.0\n",
       "dtype: float64"
      ]
     },
     "execution_count": 23,
     "metadata": {},
     "output_type": "execute_result"
    }
   ],
   "source": [
    "#checking for the nans\n",
    "df.isnull().sum()* 100 / len(df)"
   ]
  },
  {
   "cell_type": "code",
   "execution_count": 24,
   "metadata": {},
   "outputs": [],
   "source": [
    "# dropping HDI for year due to excess nulls\n",
    "df=df.drop(['Unnamed: 0','country_code','country-code'],axis=1)"
   ]
  },
  {
   "cell_type": "code",
   "execution_count": 25,
   "metadata": {},
   "outputs": [
    {
     "data": {
      "text/plain": [
       "Index(['country', 'year', 'sex', 'age', 'suicides_no', 'population',\n",
       "       'suicides_per100k', 'country-year', 'HDI_for_year', 'gdp_for_year',\n",
       "       'gdp_per_capita', 'generation', 'region', 'unemployment index'],\n",
       "      dtype='object')"
      ]
     },
     "execution_count": 25,
     "metadata": {},
     "output_type": "execute_result"
    }
   ],
   "source": [
    "df.columns"
   ]
  },
  {
   "cell_type": "code",
   "execution_count": 26,
   "metadata": {},
   "outputs": [],
   "source": [
    "#df=df.drop(['HDI for year'],axis=1)"
   ]
  },
  {
   "cell_type": "code",
   "execution_count": 27,
   "metadata": {},
   "outputs": [],
   "source": [
    "#renaming some coloumn names for our convinience\n",
    "df.columns=['country', 'year', 'sex', 'age', 'suicides_no', 'population',\n",
    "       'suicides_rates', 'country-year','HDI_for_year',\n",
    "       'gdp_for_year', 'gdp_per_capita', 'generation','region','unemployment_index']"
   ]
  },
  {
   "cell_type": "code",
   "execution_count": 28,
   "metadata": {},
   "outputs": [
    {
     "name": "stdout",
     "output_type": "stream",
     "text": [
      "<class 'pandas.core.frame.DataFrame'>\n",
      "RangeIndex: 27820 entries, 0 to 27819\n",
      "Data columns (total 14 columns):\n",
      "country               27820 non-null object\n",
      "year                  27820 non-null int64\n",
      "sex                   27820 non-null object\n",
      "age                   27820 non-null object\n",
      "suicides_no           27820 non-null int64\n",
      "population            27820 non-null int64\n",
      "suicides_rates        27820 non-null float64\n",
      "country-year          27820 non-null object\n",
      "HDI_for_year          27820 non-null float64\n",
      "gdp_for_year          27820 non-null float64\n",
      "gdp_per_capita        27820 non-null int64\n",
      "generation            27820 non-null object\n",
      "region                27820 non-null object\n",
      "unemployment_index    27820 non-null float64\n",
      "dtypes: float64(4), int64(4), object(6)\n",
      "memory usage: 3.0+ MB\n"
     ]
    }
   ],
   "source": [
    "df.info()"
   ]
  },
  {
   "cell_type": "code",
   "execution_count": 29,
   "metadata": {},
   "outputs": [],
   "source": [
    "df['suicides_rates'] =  np.log1p(df.suicides_rates)    \n",
    "df['log_suicides'] =  np.log1p(df.suicides_no)\n",
    "df['log_population'] =  np.log(df.population)\n",
    "df['log_gdp'] =  np.log(df.gdp_for_year)\n",
    "df['log-unemployment']=np.log1p(df.unemployment_index)\n",
    "df['log-HDI']=np.log1p(df.HDI_for_year)\n",
    "# converting it to numeric type\n",
    "#df[\"gdp_for_year\"] = df[\"gdp_for_year\"].str.replace(\",\",\"\").astype(float)"
   ]
  },
  {
   "cell_type": "code",
   "execution_count": 30,
   "metadata": {},
   "outputs": [],
   "source": [
    "#making a copy\n",
    "data = df.copy()"
   ]
  },
  {
   "cell_type": "code",
   "execution_count": 31,
   "metadata": {},
   "outputs": [
    {
     "name": "stdout",
     "output_type": "stream",
     "text": [
      "<class 'pandas.core.frame.DataFrame'>\n",
      "RangeIndex: 27820 entries, 0 to 27819\n",
      "Columns: 122 entries, year to Silent\n",
      "dtypes: float64(9), int64(4), uint8(109)\n",
      "memory usage: 5.7 MB\n"
     ]
    },
    {
     "name": "stderr",
     "output_type": "stream",
     "text": [
      "C:\\Users\\abrar\\Anaconda3\\lib\\site-packages\\ipykernel_launcher.py:10: UserWarning: Pandas doesn't allow columns to be created via a new attribute name - see https://pandas.pydata.org/pandas-docs/stable/indexing.html#attribute-access\n",
      "  # Remove the CWD from sys.path while we load stuff.\n"
     ]
    }
   ],
   "source": [
    "#giving each coloumns integer representation and storing the copy in respective variables\n",
    "#data['country'],country=pd.factorize(data['country'])\n",
    "#data['sex'],sex=pd.factorize(data['sex'])\n",
    "#data['age'],age=pd.factorize(data['age'])\n",
    "#data['country-year'],country_year=pd.factorize(data['country-year'])\n",
    "#data['generation'],generation=pd.factorize(data['generation'])\n",
    "data_one_hot = pd.concat([data,pd.get_dummies(data.country)],axis=1)\n",
    "data_one_hot.age.unique()\n",
    "d={'5-14 years':0,'15-24 years':1,'25-34 years':2,'35-54 years':3,'55-74 years':4,'75+ years':5}\n",
    "data_one_hot.age_grp=data_one_hot.age.map(d)\n",
    "data_one_hot = pd.concat([data_one_hot,pd.get_dummies(data_one_hot.sex)],axis=1)\n",
    "data_one_hot = pd.concat([data_one_hot,pd.get_dummies(data_one_hot.generation)],axis=1)\n",
    "data_one_hot=data_one_hot.select_dtypes(exclude='object')\n",
    "data_one_hot.info()"
   ]
  },
  {
   "cell_type": "code",
   "execution_count": 32,
   "metadata": {},
   "outputs": [
    {
     "data": {
      "text/html": [
       "<div>\n",
       "<style scoped>\n",
       "    .dataframe tbody tr th:only-of-type {\n",
       "        vertical-align: middle;\n",
       "    }\n",
       "\n",
       "    .dataframe tbody tr th {\n",
       "        vertical-align: top;\n",
       "    }\n",
       "\n",
       "    .dataframe thead th {\n",
       "        text-align: right;\n",
       "    }\n",
       "</style>\n",
       "<table border=\"1\" class=\"dataframe\">\n",
       "  <thead>\n",
       "    <tr style=\"text-align: right;\">\n",
       "      <th></th>\n",
       "      <th>year</th>\n",
       "      <th>suicides_no</th>\n",
       "      <th>population</th>\n",
       "      <th>suicides_rates</th>\n",
       "      <th>HDI_for_year</th>\n",
       "      <th>gdp_for_year</th>\n",
       "      <th>gdp_per_capita</th>\n",
       "      <th>unemployment_index</th>\n",
       "      <th>log_suicides</th>\n",
       "      <th>log_population</th>\n",
       "      <th>...</th>\n",
       "      <th>Uruguay</th>\n",
       "      <th>Uzbekistan</th>\n",
       "      <th>female</th>\n",
       "      <th>male</th>\n",
       "      <th>Boomers</th>\n",
       "      <th>G.I. Generation</th>\n",
       "      <th>Generation X</th>\n",
       "      <th>Generation Z</th>\n",
       "      <th>Millenials</th>\n",
       "      <th>Silent</th>\n",
       "    </tr>\n",
       "  </thead>\n",
       "  <tbody>\n",
       "    <tr>\n",
       "      <th>0</th>\n",
       "      <td>1987</td>\n",
       "      <td>21</td>\n",
       "      <td>312900</td>\n",
       "      <td>2.042518</td>\n",
       "      <td>0.673</td>\n",
       "      <td>2.156625e+09</td>\n",
       "      <td>796</td>\n",
       "      <td>6.1</td>\n",
       "      <td>3.091042</td>\n",
       "      <td>12.653639</td>\n",
       "      <td>...</td>\n",
       "      <td>0</td>\n",
       "      <td>0</td>\n",
       "      <td>0</td>\n",
       "      <td>1</td>\n",
       "      <td>0</td>\n",
       "      <td>0</td>\n",
       "      <td>1</td>\n",
       "      <td>0</td>\n",
       "      <td>0</td>\n",
       "      <td>0</td>\n",
       "    </tr>\n",
       "    <tr>\n",
       "      <th>1</th>\n",
       "      <td>1987</td>\n",
       "      <td>16</td>\n",
       "      <td>308000</td>\n",
       "      <td>1.822935</td>\n",
       "      <td>0.673</td>\n",
       "      <td>2.156625e+09</td>\n",
       "      <td>796</td>\n",
       "      <td>6.1</td>\n",
       "      <td>2.833213</td>\n",
       "      <td>12.637855</td>\n",
       "      <td>...</td>\n",
       "      <td>0</td>\n",
       "      <td>0</td>\n",
       "      <td>0</td>\n",
       "      <td>1</td>\n",
       "      <td>0</td>\n",
       "      <td>0</td>\n",
       "      <td>0</td>\n",
       "      <td>0</td>\n",
       "      <td>0</td>\n",
       "      <td>1</td>\n",
       "    </tr>\n",
       "    <tr>\n",
       "      <th>2</th>\n",
       "      <td>1987</td>\n",
       "      <td>14</td>\n",
       "      <td>289700</td>\n",
       "      <td>1.763017</td>\n",
       "      <td>0.673</td>\n",
       "      <td>2.156625e+09</td>\n",
       "      <td>796</td>\n",
       "      <td>6.1</td>\n",
       "      <td>2.708050</td>\n",
       "      <td>12.576601</td>\n",
       "      <td>...</td>\n",
       "      <td>0</td>\n",
       "      <td>0</td>\n",
       "      <td>1</td>\n",
       "      <td>0</td>\n",
       "      <td>0</td>\n",
       "      <td>0</td>\n",
       "      <td>1</td>\n",
       "      <td>0</td>\n",
       "      <td>0</td>\n",
       "      <td>0</td>\n",
       "    </tr>\n",
       "    <tr>\n",
       "      <th>3</th>\n",
       "      <td>1987</td>\n",
       "      <td>1</td>\n",
       "      <td>21800</td>\n",
       "      <td>1.720979</td>\n",
       "      <td>0.673</td>\n",
       "      <td>2.156625e+09</td>\n",
       "      <td>796</td>\n",
       "      <td>6.1</td>\n",
       "      <td>0.693147</td>\n",
       "      <td>9.989665</td>\n",
       "      <td>...</td>\n",
       "      <td>0</td>\n",
       "      <td>0</td>\n",
       "      <td>0</td>\n",
       "      <td>1</td>\n",
       "      <td>0</td>\n",
       "      <td>1</td>\n",
       "      <td>0</td>\n",
       "      <td>0</td>\n",
       "      <td>0</td>\n",
       "      <td>0</td>\n",
       "    </tr>\n",
       "    <tr>\n",
       "      <th>4</th>\n",
       "      <td>1987</td>\n",
       "      <td>9</td>\n",
       "      <td>274300</td>\n",
       "      <td>1.453953</td>\n",
       "      <td>0.673</td>\n",
       "      <td>2.156625e+09</td>\n",
       "      <td>796</td>\n",
       "      <td>6.1</td>\n",
       "      <td>2.302585</td>\n",
       "      <td>12.521978</td>\n",
       "      <td>...</td>\n",
       "      <td>0</td>\n",
       "      <td>0</td>\n",
       "      <td>0</td>\n",
       "      <td>1</td>\n",
       "      <td>1</td>\n",
       "      <td>0</td>\n",
       "      <td>0</td>\n",
       "      <td>0</td>\n",
       "      <td>0</td>\n",
       "      <td>0</td>\n",
       "    </tr>\n",
       "  </tbody>\n",
       "</table>\n",
       "<p>5 rows × 122 columns</p>\n",
       "</div>"
      ],
      "text/plain": [
       "   year  suicides_no  population  suicides_rates  HDI_for_year  gdp_for_year  \\\n",
       "0  1987           21      312900        2.042518         0.673  2.156625e+09   \n",
       "1  1987           16      308000        1.822935         0.673  2.156625e+09   \n",
       "2  1987           14      289700        1.763017         0.673  2.156625e+09   \n",
       "3  1987            1       21800        1.720979         0.673  2.156625e+09   \n",
       "4  1987            9      274300        1.453953         0.673  2.156625e+09   \n",
       "\n",
       "   gdp_per_capita  unemployment_index  log_suicides  log_population   ...    \\\n",
       "0             796                 6.1      3.091042       12.653639   ...     \n",
       "1             796                 6.1      2.833213       12.637855   ...     \n",
       "2             796                 6.1      2.708050       12.576601   ...     \n",
       "3             796                 6.1      0.693147        9.989665   ...     \n",
       "4             796                 6.1      2.302585       12.521978   ...     \n",
       "\n",
       "   Uruguay  Uzbekistan  female  male  Boomers  G.I. Generation  Generation X  \\\n",
       "0        0           0       0     1        0                0             1   \n",
       "1        0           0       0     1        0                0             0   \n",
       "2        0           0       1     0        0                0             1   \n",
       "3        0           0       0     1        0                1             0   \n",
       "4        0           0       0     1        1                0             0   \n",
       "\n",
       "   Generation Z  Millenials  Silent  \n",
       "0             0           0       0  \n",
       "1             0           0       1  \n",
       "2             0           0       0  \n",
       "3             0           0       0  \n",
       "4             0           0       0  \n",
       "\n",
       "[5 rows x 122 columns]"
      ]
     },
     "execution_count": 32,
     "metadata": {},
     "output_type": "execute_result"
    }
   ],
   "source": [
    "data = data_one_hot.copy()\n",
    "data.head()"
   ]
  },
  {
   "cell_type": "code",
   "execution_count": 33,
   "metadata": {},
   "outputs": [],
   "source": [
    "#Selecting feature columns\n",
    "#feature_cols = [\"year\",'age','sex','generation',\"log_population\",\"log_gdp\",\"log-unemployment\",\"log-HDI\"]\n",
    "feature_cols = [\"year\",'age','sex','generation',\"log_gdp\",\"log-unemployment\",\"log-HDI\"]\n",
    "#feature_selections = [\"log_population\",\"population\",\"suicides_no\"]"
   ]
  },
  {
   "cell_type": "code",
   "execution_count": 34,
   "metadata": {},
   "outputs": [],
   "source": [
    "#creating xlables and ylables\n",
    "X = data.drop(['suicides_no','log_population','population','suicides_rates'],axis=1)   #independent columns\n",
    "y = data['suicides_rates']"
   ]
  },
  {
   "cell_type": "code",
   "execution_count": 35,
   "metadata": {},
   "outputs": [],
   "source": [
    "#splitting the data into two parts test and train for respective purpose\n",
    "from sklearn.model_selection import train_test_split\n",
    "X_train, X_test, y_train, y_test = train_test_split(X, y, test_size=0.20, random_state=1)"
   ]
  },
  {
   "cell_type": "code",
   "execution_count": 36,
   "metadata": {},
   "outputs": [],
   "source": [
    "testing =[]\n",
    "training=[]"
   ]
  },
  {
   "cell_type": "markdown",
   "metadata": {},
   "source": [
    "# Support Vector Regressor"
   ]
  },
  {
   "cell_type": "code",
   "execution_count": 17,
   "metadata": {},
   "outputs": [
    {
     "name": "stderr",
     "output_type": "stream",
     "text": [
      "C:\\Users\\abrar\\Anaconda3\\lib\\site-packages\\sklearn\\svm\\base.py:196: FutureWarning: The default value of gamma will change from 'auto' to 'scale' in version 0.22 to account better for unscaled features. Set gamma explicitly to 'auto' or 'scale' to avoid this warning.\n",
      "  \"avoid this warning.\", FutureWarning)\n"
     ]
    },
    {
     "name": "stdout",
     "output_type": "stream",
     "text": [
      "R2=  0.3365161988437758\n",
      "MSE=  1.11768464197519\n",
      "RMSE= 1.057206054643649\n",
      "MAE = 0.8238132288136006\n"
     ]
    }
   ],
   "source": [
    "from sklearn.svm import SVR\n",
    "reg =SVR(kernel='rbf')\n",
    "reg.fit(X_train,y_train)\n",
    "pred1=reg.predict(X_test)\n",
    "pred2=reg.predict(X_train)\n",
    "print('R2= ', metrics.r2_score(y_test,pred1))\n",
    "print('MSE= ', metrics.mean_squared_error(y_test,pred1))\n",
    "print ('RMSE=',np.sqrt(metrics.mean_squared_error(y_test,pred1)))\n",
    "print('MAE =', mean_absolute_error(y_test,pred1))\n",
    "testing.append( metrics.r2_score(y_test,pred1))\n",
    "training.append( metrics.r2_score(y_train,pred2))\n"
   ]
  },
  {
   "cell_type": "code",
   "execution_count": null,
   "metadata": {},
   "outputs": [],
   "source": []
  },
  {
   "cell_type": "code",
   "execution_count": 87,
   "metadata": {},
   "outputs": [
    {
     "name": "stdout",
     "output_type": "stream",
     "text": [
      "0.5385624331714939 0.5361027668713736\n"
     ]
    }
   ],
   "source": [
    "# R squared and adjusted R squared for train set\n",
    "yhat = reg.predict(X_train)\n",
    "SS_Residual = sum((y_train-yhat)**2)\n",
    "SS_Total = sum((y_train-np.mean(y_train))**2)\n",
    "r_squared = 1 - (float(SS_Residual))/SS_Total\n",
    "adjusted_r_squared = 1 - (1-r_squared)*(len(y_train)-1)/(len(y_train)-X_train.shape[1]-1)\n",
    "print(r_squared, adjusted_r_squared)\n"
   ]
  },
  {
   "cell_type": "markdown",
   "metadata": {},
   "source": [
    "# Linear Regression"
   ]
  },
  {
   "cell_type": "code",
   "execution_count": 18,
   "metadata": {},
   "outputs": [],
   "source": [
    "#importing linear regression model from sklearn\n",
    "from sklearn.linear_model import LinearRegression\n",
    "lm = LinearRegression()"
   ]
  },
  {
   "cell_type": "code",
   "execution_count": 19,
   "metadata": {},
   "outputs": [
    {
     "data": {
      "text/plain": [
       "LinearRegression(copy_X=True, fit_intercept=True, n_jobs=None,\n",
       "         normalize=False)"
      ]
     },
     "execution_count": 19,
     "metadata": {},
     "output_type": "execute_result"
    }
   ],
   "source": [
    "#fitting the data\n",
    "lm.fit(X_train,y_train)"
   ]
  },
  {
   "cell_type": "code",
   "execution_count": 20,
   "metadata": {},
   "outputs": [
    {
     "name": "stdout",
     "output_type": "stream",
     "text": [
      "Value of Intercept is = -24.350654805453406\n"
     ]
    }
   ],
   "source": [
    "print(\"Value of Intercept is =\",lm.intercept_)"
   ]
  },
  {
   "cell_type": "code",
   "execution_count": 21,
   "metadata": {},
   "outputs": [
    {
     "name": "stdout",
     "output_type": "stream",
     "text": [
      "The coeff's are as follows:-\n",
      "year = 0.013753532588797636\n",
      "age = 1.0762569445376802\n",
      "sex = -7.309782526455574e-15\n",
      "generation = -1.364308110374246e-06\n",
      "log_gdp = 0.016181432839100562\n",
      "log-unemployment = 0.5999611301978303\n",
      "log-HDI = -0.08202990034568658\n"
     ]
    }
   ],
   "source": [
    "b=list(lm.coef_)\n",
    "print(\"The coeff's are as follows:-\")\n",
    "for n,m in zip(feature_cols,b):\n",
    "     print(n,\"=\",m)"
   ]
  },
  {
   "cell_type": "markdown",
   "metadata": {},
   "source": [
    "# Evaluation for the LR"
   ]
  },
  {
   "cell_type": "code",
   "execution_count": 22,
   "metadata": {},
   "outputs": [],
   "source": [
    "#saving the predicted values in the seperate variables for calculating the mean square error and root mean square error\n",
    "y_pred_test = lm.predict(X_test)   \n",
    "y_pred_train = lm.predict(X_train) "
   ]
  },
  {
   "cell_type": "code",
   "execution_count": 23,
   "metadata": {},
   "outputs": [
    {
     "name": "stdout",
     "output_type": "stream",
     "text": [
      "R2=  0.8490960128386946\n",
      "MSE=  0.25420826939420443\n",
      "RMSE= 0.5041907073659772\n",
      "MAE = 0.3507821841271186\n"
     ]
    }
   ],
   "source": [
    "#importing metrics from sklearn\n",
    "from sklearn import metrics\n",
    "#mean square error for both training and testing set\n",
    "MSE_train = metrics.mean_squared_error(y_train, y_pred_train)\n",
    "MSE_test = metrics.mean_squared_error(y_test, y_pred_test)\n",
    "print('R2= ', metrics.r2_score(y_test,y_pred_test))\n",
    "print('MSE= ', metrics.mean_squared_error(y_test,y_pred_test))\n",
    "print ('RMSE=',np.sqrt(metrics.mean_squared_error(y_test,y_pred_test)))\n",
    "print('MAE =', mean_absolute_error(y_test,y_pred_test))\n",
    "testing.append( metrics.r2_score(y_test,y_pred_test))\n",
    "training.append( metrics.r2_score(y_train,y_pred_train))"
   ]
  },
  {
   "cell_type": "code",
   "execution_count": 94,
   "metadata": {},
   "outputs": [
    {
     "name": "stdout",
     "output_type": "stream",
     "text": [
      "0.8584873739031085 0.8577330490226173\n"
     ]
    }
   ],
   "source": [
    "# R squared and adjusted R squared for train set\n",
    "yhat = lm.predict(X_train)\n",
    "SS_Residual = sum((y_train-yhat)**2)\n",
    "SS_Total = sum((y_train-np.mean(y_train))**2)\n",
    "r_squared = 1 - (float(SS_Residual))/SS_Total\n",
    "adjusted_r_squared = 1 - (1-r_squared)*(len(y_train)-1)/(len(y_train)-X_train.shape[1]-1)\n",
    "print(r_squared, adjusted_r_squared)"
   ]
  },
  {
   "cell_type": "code",
   "execution_count": 95,
   "metadata": {},
   "outputs": [
    {
     "data": {
      "text/plain": [
       "[<matplotlib.lines.Line2D at 0x1abaf25e080>]"
      ]
     },
     "execution_count": 95,
     "metadata": {},
     "output_type": "execute_result"
    },
    {
     "data": {
      "image/png": "[encoded data removed]",
      "text/plain": [
       "<Figure size 432x288 with 1 Axes>"
      ]
     },
     "metadata": {
      "needs_background": "light"
     },
     "output_type": "display_data"
    }
   ],
   "source": [
    "import matplotlib.pyplot as plt\n",
    "from scipy.stats import linregress\n",
    "plt.title('R-squared values represent the scatter around the regression line(fitted values by observed values)')\n",
    "plt.xlabel('Observed values')\n",
    "plt.ylabel('Fitted values')\n",
    "plt.scatter(yhat,y_train,marker='.')\n",
    "slope, intercept, _,_,_ = linregress(yhat,y_train)\n",
    "plt.plot(yhat, slope*yhat + intercept, c='black', marker='_')"
   ]
  },
  {
   "cell_type": "code",
   "execution_count": 86,
   "metadata": {},
   "outputs": [],
   "source": [
    "# Decision Tree Regressor"
   ]
  },
  {
   "cell_type": "code",
   "execution_count": null,
   "metadata": {},
   "outputs": [],
   "source": []
  },
  {
   "cell_type": "markdown",
   "metadata": {},
   "source": [
    "# Decision Tree Regressor"
   ]
  },
  {
   "cell_type": "code",
   "execution_count": 87,
   "metadata": {},
   "outputs": [
    {
     "name": "stdout",
     "output_type": "stream",
     "text": [
      "R2=  0.9482855178816814\n",
      "MSE=  0.08711664449172526\n",
      "RMSE= 0.29515528877478253\n",
      "RMSE= 0.29515528877478253\n"
     ]
    }
   ],
   "source": [
    "from sklearn.tree import DecisionTreeRegressor\n",
    "reg=DecisionTreeRegressor(random_state=0)\n",
    "reg.fit(X_train,y_train)\n",
    "pred=reg.predict(X_test)\n",
    "print('R2= ', metrics.r2_score(y_test,pred))\n",
    "print('MSE= ', metrics.mean_squared_error(y_test,pred))\n",
    "print ('RMSE=',np.sqrt(metrics.mean_squared_error(y_test,pred)))\n",
    "print ('RMSE=',np.sqrt(metrics.mean_squared_error(y_test,pred)))"
   ]
  },
  {
   "cell_type": "code",
   "execution_count": 88,
   "metadata": {},
   "outputs": [
    {
     "name": "stdout",
     "output_type": "stream",
     "text": [
      "0.9994749005585366 0.9994721015462905\n"
     ]
    }
   ],
   "source": [
    "# R squared and adjusted R squared for train set\n",
    "yhat = reg.predict(X_train)\n",
    "SS_Residual = sum((y_train-yhat)**2)\n",
    "SS_Total = sum((y_train-np.mean(y_train))**2)\n",
    "r_squared = 1 - (float(SS_Residual))/SS_Total\n",
    "adjusted_r_squared = 1 - (1-r_squared)*(len(y_train)-1)/(len(y_train)-X_train.shape[1]-1)\n",
    "print(r_squared, adjusted_r_squared)"
   ]
  },
  {
   "cell_type": "markdown",
   "metadata": {},
   "source": [
    "# K Neighbors Regressor"
   ]
  },
  {
   "cell_type": "code",
   "execution_count": 65,
   "metadata": {},
   "outputs": [
    {
     "name": "stdout",
     "output_type": "stream",
     "text": [
      "R2=  0.8857121235016608\n",
      "MSE=  0.5940885778781801\n"
     ]
    }
   ],
   "source": [
    "from sklearn.neighbors import KNeighborsRegressor\n",
    "reg=KNeighborsRegressor(n_neighbors=10)\n",
    "reg.fit(X_train,y_train)\n",
    "pred=reg.predict(X_test)\n",
    "print('R2= ', metrics.r2_score(y_test,pred))\n",
    "print('MSE= ', metrics.mean_squared_error(y_test,pred))"
   ]
  },
  {
   "cell_type": "code",
   "execution_count": 66,
   "metadata": {},
   "outputs": [
    {
     "name": "stdout",
     "output_type": "stream",
     "text": [
      "0.903616243404271 0.903581583897247\n"
     ]
    }
   ],
   "source": [
    "# R squared and adjusted R squared for train set\n",
    "yhat = reg.predict(X_train)\n",
    "SS_Residual = sum((y_train-yhat)**2)\n",
    "SS_Total = sum((y_train-np.mean(y_train))**2)\n",
    "r_squared = 1 - (float(SS_Residual))/SS_Total\n",
    "adjusted_r_squared = 1 - (1-r_squared)*(len(y_train)-1)/(len(y_train)-X_train.shape[1]-1)\n",
    "print(r_squared, adjusted_r_squared)"
   ]
  },
  {
   "cell_type": "markdown",
   "metadata": {},
   "source": [
    "# Random Forest Regressor"
   ]
  },
  {
   "cell_type": "code",
   "execution_count": 24,
   "metadata": {},
   "outputs": [
    {
     "name": "stdout",
     "output_type": "stream",
     "text": [
      "R2=  0.8940607511776681\n",
      "MSE=  0.17846203808558167\n",
      "RMSE= 0.42244767496765995\n",
      "MAE = 0.3002864821254381\n",
      "MAE O = 5.333311426790361\n"
     ]
    }
   ],
   "source": [
    "from sklearn.ensemble import RandomForestRegressor\n",
    "reg=RandomForestRegressor(max_depth=8, random_state=0,n_estimators=100)\n",
    "reg.fit(X_train,y_train)\n",
    "pred1=reg.predict(X_test)\n",
    "pred2=reg.predict(X_train)\n",
    "print('R2= ', metrics.r2_score(y_test,pred1))\n",
    "print('MSE= ', metrics.mean_squared_error(y_test,pred1))\n",
    "print ('RMSE=',np.sqrt(metrics.mean_squared_error(y_test,pred1)))\n",
    "print('MAE =', mean_absolute_error(y_test,pred1))\n",
    "print('MAE O =', mean_absolute_error(np.expm1(y_test),np.expm1(pred1)))\n",
    "testing.append( metrics.r2_score(y_test,pred1))\n",
    "training.append( metrics.r2_score(y_train,pred2))"
   ]
  },
  {
   "cell_type": "code",
   "execution_count": 97,
   "metadata": {},
   "outputs": [
    {
     "name": "stdout",
     "output_type": "stream",
     "text": [
      "0.897603934415654 0.8970581181018377\n"
     ]
    }
   ],
   "source": [
    "# R squared and adjusted R squared for train set\n",
    "yhat = reg.predict(X_train)\n",
    "SS_Residual = sum((y_train-yhat)**2)\n",
    "SS_Total = sum((y_train-np.mean(y_train))**2)\n",
    "r_squared = 1 - (float(SS_Residual))/SS_Total\n",
    "adjusted_r_squared = 1 - (1-r_squared)*(len(y_train)-1)/(len(y_train)-X_train.shape[1]-1)\n",
    "print(r_squared, adjusted_r_squared)"
   ]
  },
  {
   "cell_type": "code",
   "execution_count": 37,
   "metadata": {},
   "outputs": [],
   "source": [
    "from sklearn.linear_model import LinearRegression\n",
    "import statsmodels.api as sm\n",
    "import statsmodels.formula.api as smf\n",
    "from sklearn import metrics"
   ]
  },
  {
   "cell_type": "code",
   "execution_count": 38,
   "metadata": {},
   "outputs": [],
   "source": [
    "test_years = [2015, 2014, 2013, 2012, 2011, 2010, 2009]\n",
    "\n",
    "# Stats models use this data.frames\n",
    "df_train = df[~df.year.isin(test_years)]\n",
    "df_test = df[df.year.isin(test_years)]\n"
   ]
  },
  {
   "cell_type": "markdown",
   "metadata": {},
   "source": [
    "# Fit linear model"
   ]
  },
  {
   "cell_type": "code",
   "execution_count": 44,
   "metadata": {},
   "outputs": [
    {
     "name": "stdout",
     "output_type": "stream",
     "text": [
      "                            OLS Regression Results                            \n",
      "==============================================================================\n",
      "Dep. Variable:         suicides_rates   R-squared:                       0.509\n",
      "Model:                            OLS   Adj. R-squared:                  0.508\n",
      "Method:                 Least Squares   F-statistic:                     1361.\n",
      "Date:                Mon, 01 Apr 2019   Prob (F-statistic):               0.00\n",
      "Time:                        09:28:39   Log-Likelihood:                -28176.\n",
      "No. Observations:               21052   AIC:                         5.639e+04\n",
      "Df Residuals:                   21035   BIC:                         5.652e+04\n",
      "Df Model:                          16                                         \n",
      "Covariance Type:            nonrobust                                         \n",
      "====================================================================================================\n",
      "                                       coef    std err          t      P>|t|      [0.025      0.975]\n",
      "----------------------------------------------------------------------------------------------------\n",
      "Intercept                            5.8574      3.085      1.898      0.058      -0.190      11.905\n",
      "C(sex)[T.male]                       1.0016      0.013     78.653      0.000       0.977       1.027\n",
      "C(age)[T.25-34 years]                0.2562      0.029      8.755      0.000       0.199       0.314\n",
      "C(age)[T.35-54 years]                0.3876      0.050      7.760      0.000       0.290       0.486\n",
      "C(age)[T.5-14 years]                -1.5154      0.026    -57.569      0.000      -1.567      -1.464\n",
      "C(age)[T.55-74 years]                0.6194      0.074      8.396      0.000       0.475       0.764\n",
      "C(age)[T.75+ years]                  0.9920      0.081     12.288      0.000       0.834       1.150\n",
      "C(generation)[T.G.I. Generation]    -0.0526      0.060     -0.879      0.380      -0.170       0.065\n",
      "C(generation)[T.Generation X]        0.0592      0.037      1.584      0.113      -0.014       0.132\n",
      "C(generation)[T.Generation Z]        0.1508      0.081      1.854      0.064      -0.009       0.310\n",
      "C(generation)[T.Millenials]          0.0835      0.054      1.537      0.124      -0.023       0.190\n",
      "C(generation)[T.Silent]             -0.1219      0.044     -2.773      0.006      -0.208      -0.036\n",
      "year                                -0.0034      0.002     -2.204      0.028      -0.007      -0.000\n",
      "log_population                       0.2039      0.006     33.101      0.000       0.192       0.216\n",
      "log_gdp                             -0.0178      0.005     -3.250      0.001      -0.029      -0.007\n",
      "unemployment_index                  -0.0130      0.001    -10.739      0.000      -0.015      -0.011\n",
      "HDI_for_year                         0.2936      0.034      8.515      0.000       0.226       0.361\n",
      "==============================================================================\n",
      "Omnibus:                       70.726   Durbin-Watson:                   0.810\n",
      "Prob(Omnibus):                  0.000   Jarque-Bera (JB):               71.247\n",
      "Skew:                          -0.140   Prob(JB):                     3.38e-16\n",
      "Kurtosis:                       2.943   Cond. No.                     9.70e+05\n",
      "==============================================================================\n",
      "\n",
      "Warnings:\n",
      "[1] Standard Errors assume that the covariance matrix of the errors is correctly specified.\n",
      "[2] The condition number is large, 9.7e+05. This might indicate that there are\n",
      "strong multicollinearity or other numerical problems.\n"
     ]
    }
   ],
   "source": [
    "#Fit linear model\n",
    "mod = smf.ols(formula='suicides_rates  ~ + C(sex) + C(age)+C(generation)+ year+log_population+log_gdp+unemployment_index+HDI_for_year',data=df_train)\n",
    "res_lr = mod.fit()\n",
    "print(res_lr.summary())"
   ]
  },
  {
   "cell_type": "code",
   "execution_count": 101,
   "metadata": {},
   "outputs": [],
   "source": [
    "\n",
    "def rmse(y, yhat):\n",
    "    \"Mean Squared Error\"\n",
    "    return np.sqrt(np.mean(np.square(y - yhat)))\n",
    "\n",
    "\n",
    "def mae(y, yhat):\n",
    "    \"Mean Absolute Error\"\n",
    "    return np.mean(np.abs(y - yhat))\n",
    "\n",
    "\n",
    "def print_metrics(df_test):\n",
    "    print(\"Metrics in log-space:\")\n",
    "    print(\"RMSE log-space: {:0.3f}\".format(rmse(df_test.log_suicides, df_test.est_log_suicides) ) )\n",
    "    print(\"MAE log-space: {:0.3f}\\n\".format(mae(df_test.log_suicides, df_test.est_log_suicides) ) )\n",
    "\n",
    "    print(\"Metrics in original-scale:\")\n",
    "    print(\"RMSE original scale: {:0.3f}\".format(rmse(np.expm1(df_test.log_suicides), np.expm1(df_test.est_log_suicides) ) ) )\n",
    "    print(\"MAE original scale: {:0.3f}\".format(mae(np.expm1(df_test.log_suicides), np.expm1(df_test.est_log_suicides) ) ) )\n",
    "    return None"
   ]
  },
  {
   "cell_type": "markdown",
   "metadata": {},
   "source": [
    "# Evaluation for the OLS "
   ]
  },
  {
   "cell_type": "code",
   "execution_count": 102,
   "metadata": {},
   "outputs": [],
   "source": [
    "# Predictions in all variables\n",
    "df['est_log_suicides'] = res_lr.predict(df)\n",
    "df['est_suicide_nbr'] = np.expm1(df.est_log_suicides)\n",
    "df['residuals'] = df.suicides_no - df.est_suicide_nbr\n",
    "df_test = df[df.year.isin(test_years)]\n"
   ]
  },
  {
   "cell_type": "code",
   "execution_count": 103,
   "metadata": {},
   "outputs": [
    {
     "name": "stdout",
     "output_type": "stream",
     "text": [
      "Metrics in log-space:\n",
      "RMSE log-space: 2.161\n",
      "MAE log-space: 1.776\n",
      "\n",
      "Metrics in original-scale:\n",
      "RMSE original scale: 838.032\n",
      "MAE original scale: 229.353\n"
     ]
    }
   ],
   "source": [
    "print_metrics(df_test)"
   ]
  },
  {
   "cell_type": "code",
   "execution_count": 25,
   "metadata": {},
   "outputs": [],
   "source": [
    "from sklearn.model_selection import train_test_split\n",
    "from sklearn.model_selection import GridSearchCV\n",
    "from sklearn.pipeline import Pipeline\n",
    "from sklearn.preprocessing import StandardScaler\n",
    "from sklearn.svm import SVC\n",
    "from xgboost import XGBRegressor\n",
    "\n",
    "from sklearn.metrics import mean_squared_error\n",
    "from sklearn.linear_model import LinearRegression\n",
    "from sklearn.linear_model import Ridge\n",
    "from sklearn.linear_model import Lasso\n",
    "from sklearn.linear_model import ElasticNet, ElasticNetCV\n",
    "from pandas import Series, DataFrame\n",
    "from sklearn.ensemble import RandomForestRegressor\n",
    "from sklearn.ensemble import GradientBoostingRegressor  "
   ]
  },
  {
   "cell_type": "code",
   "execution_count": 26,
   "metadata": {},
   "outputs": [],
   "source": [
    "  X_train, X_test, y_train, y_test = train_test_split(X,y, test_size = .01, random_state = 100)\n"
   ]
  },
  {
   "cell_type": "code",
   "execution_count": 27,
   "metadata": {},
   "outputs": [
    {
     "name": "stderr",
     "output_type": "stream",
     "text": [
      "C:\\Users\\abrar\\Anaconda3\\lib\\site-packages\\xgboost\\core.py:587: FutureWarning: Series.base is deprecated and will be removed in a future version\n",
      "  if getattr(data, 'base', None) is not None and \\\n"
     ]
    }
   ],
   "source": [
    "model = XGBRegressor(learning_rate=0.4, reg_lambda=.5, subsample=.9).fit(X_train, y_train)\n",
    "  "
   ]
  },
  {
   "cell_type": "code",
   "execution_count": 28,
   "metadata": {},
   "outputs": [
    {
     "name": "stdout",
     "output_type": "stream",
     "text": [
      "R2=  0.9556916598741246\n",
      "MSE=  0.07218479612543806\n",
      "RMSE= 0.26867228388026565\n",
      "MAE = 0.20898374044180149\n",
      "MAE = 0.20032980255806196\n",
      "MAE O = 2.976040003439779\n"
     ]
    }
   ],
   "source": [
    "model.fit(X_train,y_train)\n",
    "pred1=model.predict(X_test)\n",
    "pred2=model.predict(X_train)\n",
    "print('R2= ', metrics.r2_score(y_test,pred1))\n",
    "print('MSE= ', metrics.mean_squared_error(y_test,pred1))\n",
    "print ('RMSE=',np.sqrt(metrics.mean_squared_error(y_test,pred1)))\n",
    "print('MAE =', mean_absolute_error(y_test,pred1))\n",
    "print('MAE =', mean_absolute_error(y_train,pred2))\n",
    "print('MAE O =', mean_absolute_error(np.expm1(y_test),np.expm1(pred1)))\n",
    "testing.append( metrics.r2_score(y_test,pred1))\n",
    "training.append(metrics.r2_score(y_train,pred2))"
   ]
  },
  {
   "cell_type": "code",
   "execution_count": 29,
   "metadata": {},
   "outputs": [
    {
     "data": {
      "text/plain": [
       "<Figure size 700x500 with 0 Axes>"
      ]
     },
     "execution_count": 29,
     "metadata": {},
     "output_type": "execute_result"
    }
   ],
   "source": [
    "import matplotlib.pyplot as plt\n",
    "import seaborn as sns\n",
    "plt.figure(figsize=(7, 5))"
   ]
  },
  {
   "cell_type": "code",
   "execution_count": 32,
   "metadata": {},
   "outputs": [
    {
     "data": {
      "image/png": "[encoded data removed]",
      "text/plain": [
       "<Figure size 432x288 with 1 Axes>"
      ]
     },
     "metadata": {
      "needs_background": "light"
     },
     "output_type": "display_data"
    }
   ],
   "source": [
    "plt.title('different models performance on training and testing using r2score evaluation metrics')\n",
    "max_depth = np.arange(4)\n",
    "plt.plot(max_depth, training, 'o-', color = 'r', label = 'Training Score')\n",
    "plt.plot(max_depth, testing, 'o-', color = 'g', label = 'testing Score')\n",
    "# Visual aesthetics\n",
    "plt.legend(loc = 'lower right')\n",
    "plt.xlabel('models number from model  0 to 4 ')\n",
    "plt.ylabel('Score')\n",
    "plt.ylim([-0.05,1.05])\n",
    "plt.show()    "
   ]
  },
  {
   "cell_type": "code",
   "execution_count": null,
   "metadata": {},
   "outputs": [],
   "source": []
  }
 ],
 "metadata": {
  "kernelspec": {
   "display_name": "Python 3",
   "language": "python",
   "name": "python3"
  },
  "language_info": {
   "codemirror_mode": {
    "name": "ipython",
    "version": 3
   },
   "file_extension": ".py",
   "mimetype": "text/x-python",
   "name": "python",
   "nbconvert_exporter": "python",
   "pygments_lexer": "ipython3",
   "version": "3.7.1"
  }
 },
 "nbformat": 4,
 "nbformat_minor": 2
}
